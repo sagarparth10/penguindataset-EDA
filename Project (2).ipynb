{
  "nbformat": 4,
  "nbformat_minor": 0,
  "metadata": {
    "colab": {
      "name": "Project.ipynb",
      "provenance": [],
      "collapsed_sections": []
    },
    "kernelspec": {
      "name": "ir",
      "display_name": "R"
    },
    "language_info": {
      "name": "R"
    }
  },
  "cells": [
    {
      "cell_type": "code",
      "metadata": {
        "id": "hthrCMYzlT--"
      },
      "source": [
        "#importing the libraries\n",
        "library(ggplot2) \n",
        "library(dplyr)  \n",
        "library(tidyverse)"
      ],
      "execution_count": null,
      "outputs": []
    },
    {
      "cell_type": "code",
      "metadata": {
        "colab": {
          "base_uri": "https://localhost:8080/",
          "height": 1000
        },
        "id": "DttVogNKlIbE",
        "outputId": "db147933-e013-46a9-9748-2b7ab1e02307"
      },
      "source": [
        "install.packages(\"palmerpenguins\") # You only need to do this once\n",
        "library(palmerpenguins)\n",
        "data(\"penguins\")\n",
        "penguins = na.omit(penguins) # Removes missing rows\n",
        "my.student.number = 210431117 # Replace this with your student number\n",
        "set.seed(my.student.number)\n",
        "my.penguins = penguins[sample(nrow(penguins), 100), ]\n",
        "my.penguins"
      ],
      "execution_count": null,
      "outputs": [
        {
          "output_type": "stream",
          "name": "stderr",
          "text": [
            "Installing package into ‘/usr/local/lib/R/site-library’\n",
            "(as ‘lib’ is unspecified)\n",
            "\n"
          ]
        },
        {
          "output_type": "display_data",
          "data": {
            "text/plain": [
              "    species   island    bill_length_mm bill_depth_mm flipper_length_mm\n",
              "1   Adelie    Torgersen 38.6           17.0          188              \n",
              "2   Chinstrap Dream     46.9           16.6          192              \n",
              "3   Chinstrap Dream     42.5           17.3          187              \n",
              "4   Chinstrap Dream     45.7           17.3          193              \n",
              "5   Chinstrap Dream     43.5           18.1          202              \n",
              "6   Adelie    Biscoe    34.5           18.1          187              \n",
              "7   Adelie    Dream     38.8           20.0          190              \n",
              "8   Gentoo    Biscoe    45.0           15.4          220              \n",
              "9   Gentoo    Biscoe    48.7           14.1          210              \n",
              "10  Chinstrap Dream     50.1           17.9          190              \n",
              "11  Chinstrap Dream     53.5           19.9          205              \n",
              "12  Adelie    Torgersen 40.9           16.8          191              \n",
              "13  Adelie    Biscoe    41.0           20.0          203              \n",
              "14  Adelie    Dream     35.6           17.5          191              \n",
              "15  Adelie    Torgersen 41.8           19.4          198              \n",
              "16  Gentoo    Biscoe    46.1           13.2          211              \n",
              "17  Gentoo    Biscoe    45.5           14.5          212              \n",
              "18  Gentoo    Biscoe    45.5           13.9          210              \n",
              "19  Adelie    Biscoe    40.6           18.6          183              \n",
              "20  Gentoo    Biscoe    45.8           14.2          219              \n",
              "21  Chinstrap Dream     47.5           16.8          199              \n",
              "22  Adelie    Torgersen 38.9           17.8          181              \n",
              "23  Gentoo    Biscoe    42.7           13.7          208              \n",
              "24  Chinstrap Dream     42.4           17.3          181              \n",
              "25  Adelie    Torgersen 34.6           17.2          189              \n",
              "26  Adelie    Dream     37.6           19.3          181              \n",
              "27  Gentoo    Biscoe    49.1           14.5          212              \n",
              "28  Gentoo    Biscoe    49.8           15.9          229              \n",
              "29  Adelie    Dream     37.0           16.9          185              \n",
              "30  Adelie    Torgersen 44.1           18.0          210              \n",
              "⋮   ⋮         ⋮         ⋮              ⋮             ⋮                \n",
              "71  Gentoo    Biscoe    48.7           15.1          222              \n",
              "72  Gentoo    Biscoe    46.3           15.8          215              \n",
              "73  Adelie    Torgersen 35.1           19.4          193              \n",
              "74  Adelie    Biscoe    42.0           19.5          200              \n",
              "75  Chinstrap Dream     45.6           19.4          194              \n",
              "76  Gentoo    Biscoe    49.6           16.0          225              \n",
              "77  Adelie    Torgersen 45.8           18.9          197              \n",
              "78  Adelie    Biscoe    37.9           18.6          172              \n",
              "79  Adelie    Biscoe    36.5           16.6          181              \n",
              "80  Gentoo    Biscoe    43.2           14.5          208              \n",
              "81  Gentoo    Biscoe    47.3           15.3          222              \n",
              "82  Adelie    Biscoe    35.7           16.9          185              \n",
              "83  Adelie    Torgersen 38.7           19.0          195              \n",
              "84  Chinstrap Dream     52.0           19.0          197              \n",
              "85  Adelie    Dream     40.7           17.0          190              \n",
              "86  Gentoo    Biscoe    50.5           15.9          222              \n",
              "87  Gentoo    Biscoe    45.8           14.6          210              \n",
              "88  Adelie    Biscoe    35.3           18.9          187              \n",
              "89  Adelie    Dream     36.8           18.5          193              \n",
              "90  Adelie    Biscoe    35.9           19.2          189              \n",
              "91  Gentoo    Biscoe    43.4           14.4          218              \n",
              "92  Adelie    Biscoe    39.6           17.7          186              \n",
              "93  Chinstrap Dream     51.3           19.9          198              \n",
              "94  Chinstrap Dream     50.5           18.4          200              \n",
              "95  Adelie    Torgersen 46.0           21.5          194              \n",
              "96  Adelie    Dream     40.6           17.2          187              \n",
              "97  Adelie    Torgersen 41.1           18.6          189              \n",
              "98  Gentoo    Biscoe    50.7           15.0          223              \n",
              "99  Adelie    Torgersen 34.6           21.1          198              \n",
              "100 Adelie    Torgersen 42.1           19.1          195              \n",
              "    body_mass_g sex    year\n",
              "1   2900        female 2009\n",
              "2   2700        female 2008\n",
              "3   3350        female 2009\n",
              "4   3600        female 2009\n",
              "5   3400        female 2009\n",
              "6   2900        female 2008\n",
              "7   3950        male   2007\n",
              "8   5050        male   2008\n",
              "9   4450        female 2007\n",
              "10  3400        female 2009\n",
              "11  4500        male   2008\n",
              "12  3700        female 2008\n",
              "13  4725        male   2009\n",
              "14  3175        female 2009\n",
              "15  4450        male   2008\n",
              "16  4500        female 2007\n",
              "17  4750        female 2009\n",
              "18  4200        female 2008\n",
              "19  3550        male   2007\n",
              "20  4700        female 2008\n",
              "21  3900        female 2008\n",
              "22  3625        female 2007\n",
              "23  3950        female 2008\n",
              "24  3600        female 2007\n",
              "25  3200        female 2008\n",
              "26  3300        female 2007\n",
              "27  4625        female 2009\n",
              "28  5950        male   2009\n",
              "29  3000        female 2007\n",
              "30  4000        male   2009\n",
              "⋮   ⋮           ⋮      ⋮   \n",
              "71  5350        male   2007\n",
              "72  5050        male   2007\n",
              "73  4200        male   2008\n",
              "74  4050        male   2008\n",
              "75  3525        female 2009\n",
              "76  5700        male   2008\n",
              "77  4150        male   2008\n",
              "78  3150        female 2007\n",
              "79  2850        female 2008\n",
              "80  4450        female 2008\n",
              "81  5250        male   2007\n",
              "82  3150        female 2008\n",
              "83  3450        female 2007\n",
              "84  4150        male   2007\n",
              "85  3725        male   2009\n",
              "86  5550        male   2008\n",
              "87  4200        female 2007\n",
              "88  3800        female 2007\n",
              "89  3500        female 2009\n",
              "90  3800        female 2007\n",
              "91  4600        female 2009\n",
              "92  3500        female 2008\n",
              "93  3700        male   2007\n",
              "94  3400        female 2008\n",
              "95  4200        male   2007\n",
              "96  3475        male   2009\n",
              "97  3325        male   2009\n",
              "98  5550        male   2008\n",
              "99  4400        male   2007\n",
              "100 4000        male   2008"
            ],
            "text/latex": "A tibble: 100 × 8\n\\begin{tabular}{llllllll}\n species & island & bill\\_length\\_mm & bill\\_depth\\_mm & flipper\\_length\\_mm & body\\_mass\\_g & sex & year\\\\\n <fct> & <fct> & <dbl> & <dbl> & <int> & <int> & <fct> & <int>\\\\\n\\hline\n\t Adelie    & Torgersen & 38.6 & 17.0 & 188 & 2900 & female & 2009\\\\\n\t Chinstrap & Dream     & 46.9 & 16.6 & 192 & 2700 & female & 2008\\\\\n\t Chinstrap & Dream     & 42.5 & 17.3 & 187 & 3350 & female & 2009\\\\\n\t Chinstrap & Dream     & 45.7 & 17.3 & 193 & 3600 & female & 2009\\\\\n\t Chinstrap & Dream     & 43.5 & 18.1 & 202 & 3400 & female & 2009\\\\\n\t Adelie    & Biscoe    & 34.5 & 18.1 & 187 & 2900 & female & 2008\\\\\n\t Adelie    & Dream     & 38.8 & 20.0 & 190 & 3950 & male   & 2007\\\\\n\t Gentoo    & Biscoe    & 45.0 & 15.4 & 220 & 5050 & male   & 2008\\\\\n\t Gentoo    & Biscoe    & 48.7 & 14.1 & 210 & 4450 & female & 2007\\\\\n\t Chinstrap & Dream     & 50.1 & 17.9 & 190 & 3400 & female & 2009\\\\\n\t Chinstrap & Dream     & 53.5 & 19.9 & 205 & 4500 & male   & 2008\\\\\n\t Adelie    & Torgersen & 40.9 & 16.8 & 191 & 3700 & female & 2008\\\\\n\t Adelie    & Biscoe    & 41.0 & 20.0 & 203 & 4725 & male   & 2009\\\\\n\t Adelie    & Dream     & 35.6 & 17.5 & 191 & 3175 & female & 2009\\\\\n\t Adelie    & Torgersen & 41.8 & 19.4 & 198 & 4450 & male   & 2008\\\\\n\t Gentoo    & Biscoe    & 46.1 & 13.2 & 211 & 4500 & female & 2007\\\\\n\t Gentoo    & Biscoe    & 45.5 & 14.5 & 212 & 4750 & female & 2009\\\\\n\t Gentoo    & Biscoe    & 45.5 & 13.9 & 210 & 4200 & female & 2008\\\\\n\t Adelie    & Biscoe    & 40.6 & 18.6 & 183 & 3550 & male   & 2007\\\\\n\t Gentoo    & Biscoe    & 45.8 & 14.2 & 219 & 4700 & female & 2008\\\\\n\t Chinstrap & Dream     & 47.5 & 16.8 & 199 & 3900 & female & 2008\\\\\n\t Adelie    & Torgersen & 38.9 & 17.8 & 181 & 3625 & female & 2007\\\\\n\t Gentoo    & Biscoe    & 42.7 & 13.7 & 208 & 3950 & female & 2008\\\\\n\t Chinstrap & Dream     & 42.4 & 17.3 & 181 & 3600 & female & 2007\\\\\n\t Adelie    & Torgersen & 34.6 & 17.2 & 189 & 3200 & female & 2008\\\\\n\t Adelie    & Dream     & 37.6 & 19.3 & 181 & 3300 & female & 2007\\\\\n\t Gentoo    & Biscoe    & 49.1 & 14.5 & 212 & 4625 & female & 2009\\\\\n\t Gentoo    & Biscoe    & 49.8 & 15.9 & 229 & 5950 & male   & 2009\\\\\n\t Adelie    & Dream     & 37.0 & 16.9 & 185 & 3000 & female & 2007\\\\\n\t Adelie    & Torgersen & 44.1 & 18.0 & 210 & 4000 & male   & 2009\\\\\n\t ⋮ & ⋮ & ⋮ & ⋮ & ⋮ & ⋮ & ⋮ & ⋮\\\\\n\t Gentoo    & Biscoe    & 48.7 & 15.1 & 222 & 5350 & male   & 2007\\\\\n\t Gentoo    & Biscoe    & 46.3 & 15.8 & 215 & 5050 & male   & 2007\\\\\n\t Adelie    & Torgersen & 35.1 & 19.4 & 193 & 4200 & male   & 2008\\\\\n\t Adelie    & Biscoe    & 42.0 & 19.5 & 200 & 4050 & male   & 2008\\\\\n\t Chinstrap & Dream     & 45.6 & 19.4 & 194 & 3525 & female & 2009\\\\\n\t Gentoo    & Biscoe    & 49.6 & 16.0 & 225 & 5700 & male   & 2008\\\\\n\t Adelie    & Torgersen & 45.8 & 18.9 & 197 & 4150 & male   & 2008\\\\\n\t Adelie    & Biscoe    & 37.9 & 18.6 & 172 & 3150 & female & 2007\\\\\n\t Adelie    & Biscoe    & 36.5 & 16.6 & 181 & 2850 & female & 2008\\\\\n\t Gentoo    & Biscoe    & 43.2 & 14.5 & 208 & 4450 & female & 2008\\\\\n\t Gentoo    & Biscoe    & 47.3 & 15.3 & 222 & 5250 & male   & 2007\\\\\n\t Adelie    & Biscoe    & 35.7 & 16.9 & 185 & 3150 & female & 2008\\\\\n\t Adelie    & Torgersen & 38.7 & 19.0 & 195 & 3450 & female & 2007\\\\\n\t Chinstrap & Dream     & 52.0 & 19.0 & 197 & 4150 & male   & 2007\\\\\n\t Adelie    & Dream     & 40.7 & 17.0 & 190 & 3725 & male   & 2009\\\\\n\t Gentoo    & Biscoe    & 50.5 & 15.9 & 222 & 5550 & male   & 2008\\\\\n\t Gentoo    & Biscoe    & 45.8 & 14.6 & 210 & 4200 & female & 2007\\\\\n\t Adelie    & Biscoe    & 35.3 & 18.9 & 187 & 3800 & female & 2007\\\\\n\t Adelie    & Dream     & 36.8 & 18.5 & 193 & 3500 & female & 2009\\\\\n\t Adelie    & Biscoe    & 35.9 & 19.2 & 189 & 3800 & female & 2007\\\\\n\t Gentoo    & Biscoe    & 43.4 & 14.4 & 218 & 4600 & female & 2009\\\\\n\t Adelie    & Biscoe    & 39.6 & 17.7 & 186 & 3500 & female & 2008\\\\\n\t Chinstrap & Dream     & 51.3 & 19.9 & 198 & 3700 & male   & 2007\\\\\n\t Chinstrap & Dream     & 50.5 & 18.4 & 200 & 3400 & female & 2008\\\\\n\t Adelie    & Torgersen & 46.0 & 21.5 & 194 & 4200 & male   & 2007\\\\\n\t Adelie    & Dream     & 40.6 & 17.2 & 187 & 3475 & male   & 2009\\\\\n\t Adelie    & Torgersen & 41.1 & 18.6 & 189 & 3325 & male   & 2009\\\\\n\t Gentoo    & Biscoe    & 50.7 & 15.0 & 223 & 5550 & male   & 2008\\\\\n\t Adelie    & Torgersen & 34.6 & 21.1 & 198 & 4400 & male   & 2007\\\\\n\t Adelie    & Torgersen & 42.1 & 19.1 & 195 & 4000 & male   & 2008\\\\\n\\end{tabular}\n",
            "text/markdown": "\nA tibble: 100 × 8\n\n| species &lt;fct&gt; | island &lt;fct&gt; | bill_length_mm &lt;dbl&gt; | bill_depth_mm &lt;dbl&gt; | flipper_length_mm &lt;int&gt; | body_mass_g &lt;int&gt; | sex &lt;fct&gt; | year &lt;int&gt; |\n|---|---|---|---|---|---|---|---|\n| Adelie    | Torgersen | 38.6 | 17.0 | 188 | 2900 | female | 2009 |\n| Chinstrap | Dream     | 46.9 | 16.6 | 192 | 2700 | female | 2008 |\n| Chinstrap | Dream     | 42.5 | 17.3 | 187 | 3350 | female | 2009 |\n| Chinstrap | Dream     | 45.7 | 17.3 | 193 | 3600 | female | 2009 |\n| Chinstrap | Dream     | 43.5 | 18.1 | 202 | 3400 | female | 2009 |\n| Adelie    | Biscoe    | 34.5 | 18.1 | 187 | 2900 | female | 2008 |\n| Adelie    | Dream     | 38.8 | 20.0 | 190 | 3950 | male   | 2007 |\n| Gentoo    | Biscoe    | 45.0 | 15.4 | 220 | 5050 | male   | 2008 |\n| Gentoo    | Biscoe    | 48.7 | 14.1 | 210 | 4450 | female | 2007 |\n| Chinstrap | Dream     | 50.1 | 17.9 | 190 | 3400 | female | 2009 |\n| Chinstrap | Dream     | 53.5 | 19.9 | 205 | 4500 | male   | 2008 |\n| Adelie    | Torgersen | 40.9 | 16.8 | 191 | 3700 | female | 2008 |\n| Adelie    | Biscoe    | 41.0 | 20.0 | 203 | 4725 | male   | 2009 |\n| Adelie    | Dream     | 35.6 | 17.5 | 191 | 3175 | female | 2009 |\n| Adelie    | Torgersen | 41.8 | 19.4 | 198 | 4450 | male   | 2008 |\n| Gentoo    | Biscoe    | 46.1 | 13.2 | 211 | 4500 | female | 2007 |\n| Gentoo    | Biscoe    | 45.5 | 14.5 | 212 | 4750 | female | 2009 |\n| Gentoo    | Biscoe    | 45.5 | 13.9 | 210 | 4200 | female | 2008 |\n| Adelie    | Biscoe    | 40.6 | 18.6 | 183 | 3550 | male   | 2007 |\n| Gentoo    | Biscoe    | 45.8 | 14.2 | 219 | 4700 | female | 2008 |\n| Chinstrap | Dream     | 47.5 | 16.8 | 199 | 3900 | female | 2008 |\n| Adelie    | Torgersen | 38.9 | 17.8 | 181 | 3625 | female | 2007 |\n| Gentoo    | Biscoe    | 42.7 | 13.7 | 208 | 3950 | female | 2008 |\n| Chinstrap | Dream     | 42.4 | 17.3 | 181 | 3600 | female | 2007 |\n| Adelie    | Torgersen | 34.6 | 17.2 | 189 | 3200 | female | 2008 |\n| Adelie    | Dream     | 37.6 | 19.3 | 181 | 3300 | female | 2007 |\n| Gentoo    | Biscoe    | 49.1 | 14.5 | 212 | 4625 | female | 2009 |\n| Gentoo    | Biscoe    | 49.8 | 15.9 | 229 | 5950 | male   | 2009 |\n| Adelie    | Dream     | 37.0 | 16.9 | 185 | 3000 | female | 2007 |\n| Adelie    | Torgersen | 44.1 | 18.0 | 210 | 4000 | male   | 2009 |\n| ⋮ | ⋮ | ⋮ | ⋮ | ⋮ | ⋮ | ⋮ | ⋮ |\n| Gentoo    | Biscoe    | 48.7 | 15.1 | 222 | 5350 | male   | 2007 |\n| Gentoo    | Biscoe    | 46.3 | 15.8 | 215 | 5050 | male   | 2007 |\n| Adelie    | Torgersen | 35.1 | 19.4 | 193 | 4200 | male   | 2008 |\n| Adelie    | Biscoe    | 42.0 | 19.5 | 200 | 4050 | male   | 2008 |\n| Chinstrap | Dream     | 45.6 | 19.4 | 194 | 3525 | female | 2009 |\n| Gentoo    | Biscoe    | 49.6 | 16.0 | 225 | 5700 | male   | 2008 |\n| Adelie    | Torgersen | 45.8 | 18.9 | 197 | 4150 | male   | 2008 |\n| Adelie    | Biscoe    | 37.9 | 18.6 | 172 | 3150 | female | 2007 |\n| Adelie    | Biscoe    | 36.5 | 16.6 | 181 | 2850 | female | 2008 |\n| Gentoo    | Biscoe    | 43.2 | 14.5 | 208 | 4450 | female | 2008 |\n| Gentoo    | Biscoe    | 47.3 | 15.3 | 222 | 5250 | male   | 2007 |\n| Adelie    | Biscoe    | 35.7 | 16.9 | 185 | 3150 | female | 2008 |\n| Adelie    | Torgersen | 38.7 | 19.0 | 195 | 3450 | female | 2007 |\n| Chinstrap | Dream     | 52.0 | 19.0 | 197 | 4150 | male   | 2007 |\n| Adelie    | Dream     | 40.7 | 17.0 | 190 | 3725 | male   | 2009 |\n| Gentoo    | Biscoe    | 50.5 | 15.9 | 222 | 5550 | male   | 2008 |\n| Gentoo    | Biscoe    | 45.8 | 14.6 | 210 | 4200 | female | 2007 |\n| Adelie    | Biscoe    | 35.3 | 18.9 | 187 | 3800 | female | 2007 |\n| Adelie    | Dream     | 36.8 | 18.5 | 193 | 3500 | female | 2009 |\n| Adelie    | Biscoe    | 35.9 | 19.2 | 189 | 3800 | female | 2007 |\n| Gentoo    | Biscoe    | 43.4 | 14.4 | 218 | 4600 | female | 2009 |\n| Adelie    | Biscoe    | 39.6 | 17.7 | 186 | 3500 | female | 2008 |\n| Chinstrap | Dream     | 51.3 | 19.9 | 198 | 3700 | male   | 2007 |\n| Chinstrap | Dream     | 50.5 | 18.4 | 200 | 3400 | female | 2008 |\n| Adelie    | Torgersen | 46.0 | 21.5 | 194 | 4200 | male   | 2007 |\n| Adelie    | Dream     | 40.6 | 17.2 | 187 | 3475 | male   | 2009 |\n| Adelie    | Torgersen | 41.1 | 18.6 | 189 | 3325 | male   | 2009 |\n| Gentoo    | Biscoe    | 50.7 | 15.0 | 223 | 5550 | male   | 2008 |\n| Adelie    | Torgersen | 34.6 | 21.1 | 198 | 4400 | male   | 2007 |\n| Adelie    | Torgersen | 42.1 | 19.1 | 195 | 4000 | male   | 2008 |\n\n",
            "text/html": [
              "<table class=\"dataframe\">\n",
              "<caption>A tibble: 100 × 8</caption>\n",
              "<thead>\n",
              "\t<tr><th scope=col>species</th><th scope=col>island</th><th scope=col>bill_length_mm</th><th scope=col>bill_depth_mm</th><th scope=col>flipper_length_mm</th><th scope=col>body_mass_g</th><th scope=col>sex</th><th scope=col>year</th></tr>\n",
              "\t<tr><th scope=col>&lt;fct&gt;</th><th scope=col>&lt;fct&gt;</th><th scope=col>&lt;dbl&gt;</th><th scope=col>&lt;dbl&gt;</th><th scope=col>&lt;int&gt;</th><th scope=col>&lt;int&gt;</th><th scope=col>&lt;fct&gt;</th><th scope=col>&lt;int&gt;</th></tr>\n",
              "</thead>\n",
              "<tbody>\n",
              "\t<tr><td>Adelie   </td><td>Torgersen</td><td>38.6</td><td>17.0</td><td>188</td><td>2900</td><td>female</td><td>2009</td></tr>\n",
              "\t<tr><td>Chinstrap</td><td>Dream    </td><td>46.9</td><td>16.6</td><td>192</td><td>2700</td><td>female</td><td>2008</td></tr>\n",
              "\t<tr><td>Chinstrap</td><td>Dream    </td><td>42.5</td><td>17.3</td><td>187</td><td>3350</td><td>female</td><td>2009</td></tr>\n",
              "\t<tr><td>Chinstrap</td><td>Dream    </td><td>45.7</td><td>17.3</td><td>193</td><td>3600</td><td>female</td><td>2009</td></tr>\n",
              "\t<tr><td>Chinstrap</td><td>Dream    </td><td>43.5</td><td>18.1</td><td>202</td><td>3400</td><td>female</td><td>2009</td></tr>\n",
              "\t<tr><td>Adelie   </td><td>Biscoe   </td><td>34.5</td><td>18.1</td><td>187</td><td>2900</td><td>female</td><td>2008</td></tr>\n",
              "\t<tr><td>Adelie   </td><td>Dream    </td><td>38.8</td><td>20.0</td><td>190</td><td>3950</td><td>male  </td><td>2007</td></tr>\n",
              "\t<tr><td>Gentoo   </td><td>Biscoe   </td><td>45.0</td><td>15.4</td><td>220</td><td>5050</td><td>male  </td><td>2008</td></tr>\n",
              "\t<tr><td>Gentoo   </td><td>Biscoe   </td><td>48.7</td><td>14.1</td><td>210</td><td>4450</td><td>female</td><td>2007</td></tr>\n",
              "\t<tr><td>Chinstrap</td><td>Dream    </td><td>50.1</td><td>17.9</td><td>190</td><td>3400</td><td>female</td><td>2009</td></tr>\n",
              "\t<tr><td>Chinstrap</td><td>Dream    </td><td>53.5</td><td>19.9</td><td>205</td><td>4500</td><td>male  </td><td>2008</td></tr>\n",
              "\t<tr><td>Adelie   </td><td>Torgersen</td><td>40.9</td><td>16.8</td><td>191</td><td>3700</td><td>female</td><td>2008</td></tr>\n",
              "\t<tr><td>Adelie   </td><td>Biscoe   </td><td>41.0</td><td>20.0</td><td>203</td><td>4725</td><td>male  </td><td>2009</td></tr>\n",
              "\t<tr><td>Adelie   </td><td>Dream    </td><td>35.6</td><td>17.5</td><td>191</td><td>3175</td><td>female</td><td>2009</td></tr>\n",
              "\t<tr><td>Adelie   </td><td>Torgersen</td><td>41.8</td><td>19.4</td><td>198</td><td>4450</td><td>male  </td><td>2008</td></tr>\n",
              "\t<tr><td>Gentoo   </td><td>Biscoe   </td><td>46.1</td><td>13.2</td><td>211</td><td>4500</td><td>female</td><td>2007</td></tr>\n",
              "\t<tr><td>Gentoo   </td><td>Biscoe   </td><td>45.5</td><td>14.5</td><td>212</td><td>4750</td><td>female</td><td>2009</td></tr>\n",
              "\t<tr><td>Gentoo   </td><td>Biscoe   </td><td>45.5</td><td>13.9</td><td>210</td><td>4200</td><td>female</td><td>2008</td></tr>\n",
              "\t<tr><td>Adelie   </td><td>Biscoe   </td><td>40.6</td><td>18.6</td><td>183</td><td>3550</td><td>male  </td><td>2007</td></tr>\n",
              "\t<tr><td>Gentoo   </td><td>Biscoe   </td><td>45.8</td><td>14.2</td><td>219</td><td>4700</td><td>female</td><td>2008</td></tr>\n",
              "\t<tr><td>Chinstrap</td><td>Dream    </td><td>47.5</td><td>16.8</td><td>199</td><td>3900</td><td>female</td><td>2008</td></tr>\n",
              "\t<tr><td>Adelie   </td><td>Torgersen</td><td>38.9</td><td>17.8</td><td>181</td><td>3625</td><td>female</td><td>2007</td></tr>\n",
              "\t<tr><td>Gentoo   </td><td>Biscoe   </td><td>42.7</td><td>13.7</td><td>208</td><td>3950</td><td>female</td><td>2008</td></tr>\n",
              "\t<tr><td>Chinstrap</td><td>Dream    </td><td>42.4</td><td>17.3</td><td>181</td><td>3600</td><td>female</td><td>2007</td></tr>\n",
              "\t<tr><td>Adelie   </td><td>Torgersen</td><td>34.6</td><td>17.2</td><td>189</td><td>3200</td><td>female</td><td>2008</td></tr>\n",
              "\t<tr><td>Adelie   </td><td>Dream    </td><td>37.6</td><td>19.3</td><td>181</td><td>3300</td><td>female</td><td>2007</td></tr>\n",
              "\t<tr><td>Gentoo   </td><td>Biscoe   </td><td>49.1</td><td>14.5</td><td>212</td><td>4625</td><td>female</td><td>2009</td></tr>\n",
              "\t<tr><td>Gentoo   </td><td>Biscoe   </td><td>49.8</td><td>15.9</td><td>229</td><td>5950</td><td>male  </td><td>2009</td></tr>\n",
              "\t<tr><td>Adelie   </td><td>Dream    </td><td>37.0</td><td>16.9</td><td>185</td><td>3000</td><td>female</td><td>2007</td></tr>\n",
              "\t<tr><td>Adelie   </td><td>Torgersen</td><td>44.1</td><td>18.0</td><td>210</td><td>4000</td><td>male  </td><td>2009</td></tr>\n",
              "\t<tr><td>⋮</td><td>⋮</td><td>⋮</td><td>⋮</td><td>⋮</td><td>⋮</td><td>⋮</td><td>⋮</td></tr>\n",
              "\t<tr><td>Gentoo   </td><td>Biscoe   </td><td>48.7</td><td>15.1</td><td>222</td><td>5350</td><td>male  </td><td>2007</td></tr>\n",
              "\t<tr><td>Gentoo   </td><td>Biscoe   </td><td>46.3</td><td>15.8</td><td>215</td><td>5050</td><td>male  </td><td>2007</td></tr>\n",
              "\t<tr><td>Adelie   </td><td>Torgersen</td><td>35.1</td><td>19.4</td><td>193</td><td>4200</td><td>male  </td><td>2008</td></tr>\n",
              "\t<tr><td>Adelie   </td><td>Biscoe   </td><td>42.0</td><td>19.5</td><td>200</td><td>4050</td><td>male  </td><td>2008</td></tr>\n",
              "\t<tr><td>Chinstrap</td><td>Dream    </td><td>45.6</td><td>19.4</td><td>194</td><td>3525</td><td>female</td><td>2009</td></tr>\n",
              "\t<tr><td>Gentoo   </td><td>Biscoe   </td><td>49.6</td><td>16.0</td><td>225</td><td>5700</td><td>male  </td><td>2008</td></tr>\n",
              "\t<tr><td>Adelie   </td><td>Torgersen</td><td>45.8</td><td>18.9</td><td>197</td><td>4150</td><td>male  </td><td>2008</td></tr>\n",
              "\t<tr><td>Adelie   </td><td>Biscoe   </td><td>37.9</td><td>18.6</td><td>172</td><td>3150</td><td>female</td><td>2007</td></tr>\n",
              "\t<tr><td>Adelie   </td><td>Biscoe   </td><td>36.5</td><td>16.6</td><td>181</td><td>2850</td><td>female</td><td>2008</td></tr>\n",
              "\t<tr><td>Gentoo   </td><td>Biscoe   </td><td>43.2</td><td>14.5</td><td>208</td><td>4450</td><td>female</td><td>2008</td></tr>\n",
              "\t<tr><td>Gentoo   </td><td>Biscoe   </td><td>47.3</td><td>15.3</td><td>222</td><td>5250</td><td>male  </td><td>2007</td></tr>\n",
              "\t<tr><td>Adelie   </td><td>Biscoe   </td><td>35.7</td><td>16.9</td><td>185</td><td>3150</td><td>female</td><td>2008</td></tr>\n",
              "\t<tr><td>Adelie   </td><td>Torgersen</td><td>38.7</td><td>19.0</td><td>195</td><td>3450</td><td>female</td><td>2007</td></tr>\n",
              "\t<tr><td>Chinstrap</td><td>Dream    </td><td>52.0</td><td>19.0</td><td>197</td><td>4150</td><td>male  </td><td>2007</td></tr>\n",
              "\t<tr><td>Adelie   </td><td>Dream    </td><td>40.7</td><td>17.0</td><td>190</td><td>3725</td><td>male  </td><td>2009</td></tr>\n",
              "\t<tr><td>Gentoo   </td><td>Biscoe   </td><td>50.5</td><td>15.9</td><td>222</td><td>5550</td><td>male  </td><td>2008</td></tr>\n",
              "\t<tr><td>Gentoo   </td><td>Biscoe   </td><td>45.8</td><td>14.6</td><td>210</td><td>4200</td><td>female</td><td>2007</td></tr>\n",
              "\t<tr><td>Adelie   </td><td>Biscoe   </td><td>35.3</td><td>18.9</td><td>187</td><td>3800</td><td>female</td><td>2007</td></tr>\n",
              "\t<tr><td>Adelie   </td><td>Dream    </td><td>36.8</td><td>18.5</td><td>193</td><td>3500</td><td>female</td><td>2009</td></tr>\n",
              "\t<tr><td>Adelie   </td><td>Biscoe   </td><td>35.9</td><td>19.2</td><td>189</td><td>3800</td><td>female</td><td>2007</td></tr>\n",
              "\t<tr><td>Gentoo   </td><td>Biscoe   </td><td>43.4</td><td>14.4</td><td>218</td><td>4600</td><td>female</td><td>2009</td></tr>\n",
              "\t<tr><td>Adelie   </td><td>Biscoe   </td><td>39.6</td><td>17.7</td><td>186</td><td>3500</td><td>female</td><td>2008</td></tr>\n",
              "\t<tr><td>Chinstrap</td><td>Dream    </td><td>51.3</td><td>19.9</td><td>198</td><td>3700</td><td>male  </td><td>2007</td></tr>\n",
              "\t<tr><td>Chinstrap</td><td>Dream    </td><td>50.5</td><td>18.4</td><td>200</td><td>3400</td><td>female</td><td>2008</td></tr>\n",
              "\t<tr><td>Adelie   </td><td>Torgersen</td><td>46.0</td><td>21.5</td><td>194</td><td>4200</td><td>male  </td><td>2007</td></tr>\n",
              "\t<tr><td>Adelie   </td><td>Dream    </td><td>40.6</td><td>17.2</td><td>187</td><td>3475</td><td>male  </td><td>2009</td></tr>\n",
              "\t<tr><td>Adelie   </td><td>Torgersen</td><td>41.1</td><td>18.6</td><td>189</td><td>3325</td><td>male  </td><td>2009</td></tr>\n",
              "\t<tr><td>Gentoo   </td><td>Biscoe   </td><td>50.7</td><td>15.0</td><td>223</td><td>5550</td><td>male  </td><td>2008</td></tr>\n",
              "\t<tr><td>Adelie   </td><td>Torgersen</td><td>34.6</td><td>21.1</td><td>198</td><td>4400</td><td>male  </td><td>2007</td></tr>\n",
              "\t<tr><td>Adelie   </td><td>Torgersen</td><td>42.1</td><td>19.1</td><td>195</td><td>4000</td><td>male  </td><td>2008</td></tr>\n",
              "</tbody>\n",
              "</table>\n"
            ]
          },
          "metadata": {}
        }
      ]
    },
    {
      "cell_type": "code",
      "metadata": {
        "colab": {
          "base_uri": "https://localhost:8080/",
          "height": 505
        },
        "id": "D4AgLCTIldEX",
        "outputId": "83847551-4d2a-45be-e531-64ea63ee9f7d"
      },
      "source": [
        "penguins_sex= my.penguins %>%\n",
        "  group_by(species,sex) %>%\n",
        "  summarise(bill_depth_mm= mean(bill_depth_mm),           #summarising\n",
        "            bill_length_mm= mean(bill_length_mm),         #on basis\n",
        "            flipper_length_mm=mean(flipper_length_mm),    #of mean\n",
        "            body_mass_g=mean(body_mass_g))\n",
        "ggplot(penguins_sex, aes(x=sex, y=body_mass_g,fill=sex))+ #plotting the graph of weight by gender\n",
        "  geom_col(position = position_dodge())\n",
        "\n",
        "#splitting the dataset\n",
        "my.penguins_male = my.penguins[my.penguins$sex == \"male\",] #male data set\n",
        "my.penguins_female= my.penguins[my.penguins$sex == \"female\",] #female data set\n",
        "#counter for comparison and calculating probability as if gone through vector space time complexity would be more\n",
        "countGreaterWeightMale<-0  #counter of male penguins being heavier\n",
        "countGreaterWeightFemale<-0 # counter for female penguins being heavier\n",
        "\n",
        "# loop initiation for comparison\n",
        "for (male in my.penguins_male$body_mass_g){ #outer loop for male \n",
        "  for (female in my.penguins_female$body_mass_g){ #nested loop for female as we have to consider all combinations\n",
        "    if (male>=female){                #comparison between weights\n",
        "      countGreaterWeightMale<- countGreaterWeightMale+1  #increaing counter if true\n",
        "    }\n",
        "    else{\n",
        "      countGreaterWeightFemale<-countGreaterWeightFemale+1 #increasing counter if not true\n",
        "    }\n",
        "\n",
        "  }\n",
        "}\n",
        "#countGreaterWeightMale #total times male penguins are heavier than females\n",
        "#countGreaterWeightFemale #total times female penguins are heavier than males\n",
        "prob<- countGreaterWeightMale/(countGreaterWeightMale+countGreaterWeightFemale) #probability of males heavier than females.\n",
        "print(\"probability of males heavier than females:\")\n",
        "prob"
      ],
      "execution_count": null,
      "outputs": [
        {
          "output_type": "stream",
          "name": "stderr",
          "text": [
            "`summarise()` has grouped output by 'species'. You can override using the `.groups` argument.\n",
            "\n"
          ]
        },
        {
          "output_type": "stream",
          "name": "stdout",
          "text": [
            "[1] \"probability of males heavier than females:\"\n"
          ]
        },
        {
          "output_type": "display_data",
          "data": {
            "text/plain": [
              "[1] 0.7840225"
            ],
            "text/latex": "0.784022480931353",
            "text/markdown": "0.784022480931353",
            "text/html": [
              "0.784022480931353"
            ]
          },
          "metadata": {}
        },
        {
          "output_type": "display_data",
          "data": {
            "image/png": "[encoded data removed]",
            "text/plain": [
              "plot without title"
            ]
          },
          "metadata": {
            "image/png": {
              "width": 420,
              "height": 420
            }
          }
        }
      ]
    },
    {
      "cell_type": "code",
      "metadata": {
        "colab": {
          "base_uri": "https://localhost:8080/",
          "height": 556
        },
        "id": "UgFi0VJgn7Yx",
        "outputId": "8dbcf8a8-412e-4c9d-a41d-b5c7282b796e"
      },
      "source": [
        "penguins_bill_depth_by_sex= my.penguins %>%\n",
        "  group_by(species,sex) %>%\n",
        "  summarise(bill_depth_mm= mean(bill_depth_mm),           #summarising\n",
        "            bill_length_mm= mean(bill_length_mm),         #on basis\n",
        "            flipper_length_mm=mean(flipper_length_mm),    #of mean\n",
        "            body_mass_g=mean(body_mass_g))\n",
        "ggplot(penguins_bill_depth_by_sex, aes(x=sex, y=bill_depth_mm,fill=sex))+       #plotting bill depth with respect to gender\n",
        "  geom_col(position = position_dodge())\n",
        "\n",
        "\n",
        "#splitting the dataset\n",
        "my.penguins_male = my.penguins[my.penguins$sex == \"male\",] #male data set\n",
        "my.penguins_female= my.penguins[my.penguins$sex == \"female\",] #female data set\n",
        "#counter for comparison and calculating probability as if gone through vector space time complexity would be more\n",
        "countGreaterMale<-0  #counter of male penguins having more bill depth\n",
        "countGreaterFemale<-0 # counter for female penguins having more bill depth\n",
        "\n",
        "# loop initiation for comparison\n",
        "for (male in my.penguins_male$bill_depth_mm){ #outer loop for male \n",
        "  for (female in my.penguins_female$bill_depth_mm){ #nested loop for female as we have to consider all combinations\n",
        "    if (male>=female){                #comparison between bill depth\n",
        "      countGreaterMale<- countGreaterMale+1  #increaing counter if true\n",
        "    }\n",
        "    else{\n",
        "      countGreaterFemale<-countGreaterFemale+1 #increasing counter if not true\n",
        "    }\n",
        "\n",
        "  }\n",
        "}\n",
        "#countGreaterMale #total times male penguins having more bill depth\n",
        "#countGreaterFemale #total times female penguins having more bill depth\n",
        "probmale<- countGreaterMale/(countGreaterMale+countGreaterFemale) #probability of males having more bill depth than females.\n",
        "print(\"probability of males having more bill depth than females:\")\n",
        "probmale\n",
        "\n",
        "\n",
        "#observing how many penguins have bill depth more than 20 mm\n",
        "countBillDepth=0\n",
        "for (i in my.penguins$bill_depth_mm){ #iterating through bill depth\n",
        "  if(i>= 20){\n",
        "    countBillDepth<-countBillDepth+1   #increasing the vounter of bill depth\n",
        "  }\n",
        "}\n",
        "print(\"Total number of penguins having mbull depth more than 20 mm:\")\n",
        "countBillDepth\n",
        "if(countBillDepth<5){\n",
        "  print(\"less than 5% of penguins have Bill depth greater than or equal to 20 mm \")} # to check if it is less than 5 %\n",
        "if(countBillDepth>=5){\n",
        "  print(\"greater than 5% of penguins have Bill depth greater than or equal to 20 mm\") #to check if it is more than 5%\n",
        "}"
      ],
      "execution_count": null,
      "outputs": [
        {
          "output_type": "stream",
          "name": "stderr",
          "text": [
            "`summarise()` has grouped output by 'species'. You can override using the `.groups` argument.\n",
            "\n"
          ]
        },
        {
          "output_type": "stream",
          "name": "stdout",
          "text": [
            "[1] \"probability of males having more bill depth than females:\"\n"
          ]
        },
        {
          "output_type": "display_data",
          "data": {
            "text/plain": [
              "[1] 0.7133681"
            ],
            "text/latex": "0.713368125250903",
            "text/markdown": "0.713368125250903",
            "text/html": [
              "0.713368125250903"
            ]
          },
          "metadata": {}
        },
        {
          "output_type": "stream",
          "name": "stdout",
          "text": [
            "[1] \"Total number of penguins having mbull depth more than 20 mm:\"\n"
          ]
        },
        {
          "output_type": "display_data",
          "data": {
            "text/plain": [
              "[1] 8"
            ],
            "text/latex": "8",
            "text/markdown": "8",
            "text/html": [
              "8"
            ]
          },
          "metadata": {}
        },
        {
          "output_type": "stream",
          "name": "stdout",
          "text": [
            "[1] \"greater than 5% of penguins have Bill depth greater than or equal to 20 mm\"\n"
          ]
        },
        {
          "output_type": "display_data",
          "data": {
            "image/png": "[encoded data removed]",
            "text/plain": [
              "plot without title"
            ]
          },
          "metadata": {
            "image/png": {
              "width": 420,
              "height": 420
            }
          }
        }
      ]
    },
    {
      "cell_type": "code",
      "metadata": {
        "colab": {
          "base_uri": "https://localhost:8080/",
          "height": 505
        },
        "id": "nyvEtXxepEo9",
        "outputId": "1fb8fa56-fc30-467a-c50d-6c514702218d"
      },
      "source": [
        "penguins_bill_length_by_sex= my.penguins %>%\n",
        "  group_by(species,sex) %>%\n",
        "  summarise(bill_depth_mm= mean(bill_depth_mm),           #summarising\n",
        "            bill_length_mm= mean(bill_length_mm),         #on basis\n",
        "            flipper_length_mm=mean(flipper_length_mm),    #of mean\n",
        "            body_mass_g=mean(body_mass_g))\n",
        "ggplot(penguins_bill_length_by_sex, aes(x=sex, y=bill_length_mm,fill=sex))+   #plotting bill length with respect to gender/sex\n",
        "  geom_col(position = position_dodge())\n",
        "\n",
        "\n",
        "\n",
        "\n",
        "\n",
        "#splitting the dataset\n",
        "my.penguins_male = my.penguins[my.penguins$sex == \"male\",] #male data set\n",
        "my.penguins_female= my.penguins[my.penguins$sex == \"female\",] #female data set\n",
        "#counter for comparison and calculating probability as if gone through vector space time complexity would be more\n",
        "countGreaterMale<-0  #counter of male penguins having more bill length\n",
        "countGreaterFemale<-0 # counter for female penguins having more bill length\n",
        "\n",
        "# loop initiation for comparison\n",
        "for (male in my.penguins_male$bill_length_mm){ #outer loop for male \n",
        "  for (female in my.penguins_female$bill_length_mm){ #nested loop for female as we have to consider all combinations\n",
        "    if (male>=female){                #comparison between bill length\n",
        "      countGreaterMale<- countGreaterMale+1  #increaing counter if true\n",
        "    }\n",
        "    else{\n",
        "      countGreaterFemale<-countGreaterFemale+1 #increasing counter if not true\n",
        "    }\n",
        "\n",
        "  }\n",
        "}\n",
        "#countGreaterMale #total times male penguins having more bill length\n",
        "#countGreaterFemale #total times female penguins having more bill length\n",
        "probmale<- countGreaterMale/(countGreaterMale+countGreaterFemale) #probability of males having more bill length than females.\n",
        "print(\"Probability of males having more bill length than females.\")\n",
        "probmale"
      ],
      "execution_count": null,
      "outputs": [
        {
          "output_type": "stream",
          "name": "stderr",
          "text": [
            "`summarise()` has grouped output by 'species'. You can override using the `.groups` argument.\n",
            "\n"
          ]
        },
        {
          "output_type": "stream",
          "name": "stdout",
          "text": [
            "[1] \"Probability of males having more bill length than females.\"\n"
          ]
        },
        {
          "output_type": "display_data",
          "data": {
            "text/plain": [
              "[1] 0.681654"
            ],
            "text/latex": "0.681653954235247",
            "text/markdown": "0.681653954235247",
            "text/html": [
              "0.681653954235247"
            ]
          },
          "metadata": {}
        },
        {
          "output_type": "display_data",
          "data": {
            "image/png": "[encoded data removed]",
            "text/plain": [
              "plot without title"
            ]
          },
          "metadata": {
            "image/png": {
              "width": 420,
              "height": 420
            }
          }
        }
      ]
    },
    {
      "cell_type": "code",
      "metadata": {
        "colab": {
          "base_uri": "https://localhost:8080/",
          "height": 709
        },
        "id": "vm4ov90nGjej",
        "outputId": "457a5fee-a49c-4913-8925-00bad01efee8"
      },
      "source": [
        "penguins_flipper_length_by_sex= my.penguins %>%\n",
        "  group_by(species,sex) %>%\n",
        "  summarise(bill_depth_mm= mean(bill_depth_mm),           #summarising\n",
        "            bill_length_mm= mean(bill_length_mm),         #on basis\n",
        "            flipper_length_mm=mean(flipper_length_mm),    #of mean\n",
        "            body_mass_g=mean(body_mass_g))\n",
        "ggplot(penguins_flipper_length_by_sex, aes(x=sex, y=flipper_length_mm,fill=sex))+   #plotting flipper length with respect to sex\n",
        "  geom_col(position = position_dodge())\n",
        "\n",
        "\n",
        "#splitting the dataset\n",
        "my.penguins_male = my.penguins[my.penguins$sex == \"male\",] #male data set\n",
        "my.penguins_female= my.penguins[my.penguins$sex == \"female\",] #female data set\n",
        "#counter for comparison and calculating probability as if gone through vector space time complexity would be more\n",
        "countGreaterMale<-0  #counter of male penguins having more flipper length\n",
        "countGreaterFemale<-0 # counter for female penguins having more flipper length\n",
        "\n",
        "# loop initiation for comparison\n",
        "for (male in my.penguins_male$flipper_length_mm){ #outer loop for male \n",
        "  for (female in my.penguins_female$flipper_length_mm){ #nested loop for female as we have to consider all combinations\n",
        "    if (male>=female){                #comparison between flipper length\n",
        "      countGreaterMale<- countGreaterMale+1  #increaing counter if true\n",
        "    }\n",
        "    else{\n",
        "      countGreaterFemale<-countGreaterFemale+1 #increasing counter if not true\n",
        "    }\n",
        "\n",
        "  }\n",
        "}\n",
        "#countGreaterMale #total times male penguins having more flipper length\n",
        "#countGreaterFemale #total times female penguins having more flipper length\n",
        "probmale<- countGreaterMale/(countGreaterMale+countGreaterFemale) #probability of males having more flipper length than females.\n",
        "print(\"probability of males having more flipper length than female:\")\n",
        "probmale\n",
        "\n",
        "#answer2\n",
        "print(\"null hypotheis that penguin's flippers are 200mm in length on average:\")\n",
        "my.penguins_male = my.penguins[my.penguins$sex == \"male\",] #male data set\n",
        "meanFlipperLength_Male= mean(my.penguins_male$flipper_length_mm) #mean of the flipper length\n",
        "print(\"mean:\") #printing the value\n",
        "meanFlipperLength_Male\n",
        "varianceFlipperLength_Male=var(my.penguins_male$flipper_length_mm) #variance of the flipper length \n",
        "print(\"Variance:\")\n",
        "varianceFlipperLength_Male\n",
        "length_male=length(my.penguins_male$flipper_length_mm) #total no. of male penguins\n",
        "print(\"length of the dataset of male:\")\n",
        "length_male\n",
        "Tvalue_male<-(meanFlipperLength_Male-200)/(sqrt(varianceFlipperLength_Male/length_male)) #t value of the null hypothesis\n",
        "print(\"T value:\")\n",
        "Tvalue_male\n",
        "Pvalue_male<-pt(Tvalue_male,(length_male-1)) #pvalue of the null hypothesis\n",
        "print(\"P value:\")\n",
        "Pvalue_male\n",
        "print(\"As the p value is greater than 0.05. the hypothesis stands true\")"
      ],
      "execution_count": null,
      "outputs": [
        {
          "output_type": "stream",
          "name": "stderr",
          "text": [
            "`summarise()` has grouped output by 'species'. You can override using the `.groups` argument.\n",
            "\n"
          ]
        },
        {
          "output_type": "stream",
          "name": "stdout",
          "text": [
            "[1] \"probability of males having more flipper length than female:\"\n"
          ]
        },
        {
          "output_type": "display_data",
          "data": {
            "text/plain": [
              "[1] 0.6712164"
            ],
            "text/latex": "0.671216378964271",
            "text/markdown": "0.671216378964271",
            "text/html": [
              "0.671216378964271"
            ]
          },
          "metadata": {}
        },
        {
          "output_type": "stream",
          "name": "stdout",
          "text": [
            "[1] \"null hypotheis that penguin's flippers are 200mm in length on average:\"\n",
            "[1] \"mean:\"\n"
          ]
        },
        {
          "output_type": "display_data",
          "data": {
            "text/plain": [
              "[1] 203.1277"
            ],
            "text/latex": "203.127659574468",
            "text/markdown": "203.127659574468",
            "text/html": [
              "203.127659574468"
            ]
          },
          "metadata": {}
        },
        {
          "output_type": "stream",
          "name": "stdout",
          "text": [
            "[1] \"Variance:\"\n"
          ]
        },
        {
          "output_type": "display_data",
          "data": {
            "text/plain": [
              "[1] 204.766"
            ],
            "text/latex": "204.765957446808",
            "text/markdown": "204.765957446808",
            "text/html": [
              "204.765957446808"
            ]
          },
          "metadata": {}
        },
        {
          "output_type": "stream",
          "name": "stdout",
          "text": [
            "[1] \"length of the dataset of male:\"\n"
          ]
        },
        {
          "output_type": "display_data",
          "data": {
            "text/plain": [
              "[1] 47"
            ],
            "text/latex": "47",
            "text/markdown": "47",
            "text/html": [
              "47"
            ]
          },
          "metadata": {}
        },
        {
          "output_type": "stream",
          "name": "stdout",
          "text": [
            "[1] \"T value:\"\n"
          ]
        },
        {
          "output_type": "display_data",
          "data": {
            "text/plain": [
              "[1] 1.498441"
            ],
            "text/latex": "1.49844058591797",
            "text/markdown": "1.49844058591797",
            "text/html": [
              "1.49844058591797"
            ]
          },
          "metadata": {}
        },
        {
          "output_type": "stream",
          "name": "stdout",
          "text": [
            "[1] \"P value:\"\n"
          ]
        },
        {
          "output_type": "display_data",
          "data": {
            "text/plain": [
              "[1] 0.9295747"
            ],
            "text/latex": "0.929574743874428",
            "text/markdown": "0.929574743874428",
            "text/html": [
              "0.929574743874428"
            ]
          },
          "metadata": {}
        },
        {
          "output_type": "stream",
          "name": "stdout",
          "text": [
            "[1] \"As the p value is greater than 0.05. the hypothesis stands true\"\n"
          ]
        },
        {
          "output_type": "display_data",
          "data": {
            "image/png": "[encoded data removed]",
            "text/plain": [
              "plot without title"
            ]
          },
          "metadata": {
            "image/png": {
              "width": 420,
              "height": 420
            }
          }
        }
      ]
    },
    {
      "cell_type": "code",
      "metadata": {
        "colab": {
          "base_uri": "https://localhost:8080/",
          "height": 675
        },
        "id": "x4dmmf3il679",
        "outputId": "01dcea73-6279-4417-e592-c9b223b8bcb1"
      },
      "source": [
        "ggplot(my.penguins, aes(x=body_mass_g, fill = species)) +         #exploratory all species plot\n",
        " geom_histogram()\n",
        "\n",
        "\n",
        "print(\"To confirm wih graph if Gentoo penguins are really heavier than 5000 kg on average. let's assume a hypothesis that they are and calculate the null hypothesis\")\n",
        "my.penguins_Gentoo = my.penguins[my.penguins$species == \"Gentoo\",] #considering only species of gentoo\n",
        "meanweight_Gentoo=mean(my.penguins_Gentoo$body_mass_g)             #taking the mean of weight of just gentoo species \n",
        "print(\"mean:\")  \n",
        "meanweight_Gentoo\n",
        "variance_Gentoo=var(my.penguins_Gentoo$body_mass_g)                 #taking the variance of weight of just gentoo species\n",
        "print(\"Variance:\")\n",
        "variance_Gentoo\n",
        "length_Gentoo=length(my.penguins_Gentoo$body_mass_g)                 #taking the length of weight of just gentoo species\n",
        "print(\"length:\")\n",
        "length_Gentoo\n",
        "Tvalue_Gentoo<-(meanweight_Gentoo-5000)/(sqrt(variance_Gentoo/length_Gentoo))     #taking the tvalue of  gentoo species at 5000gm\n",
        "print(\"T value:\")\n",
        "Tvalue_Gentoo\n",
        "Pvalue_Gentoo=pt(Tvalue_Gentoo,(length_Gentoo-1))                     #taking the p value gentoo species at 5000 gm             \n",
        "print(\"P value:\")\n",
        "Pvalue_Gentoo\n",
        "if(Pvalue_Gentoo>0.05){\n",
        "  print(\"As their is no evidence against our approximation, hence we can accept the hypothesis\") #to conclude our hypotheis was true, and majority of penguins weigh more tan 5000 kg\n",
        "}"
      ],
      "execution_count": null,
      "outputs": [
        {
          "output_type": "stream",
          "name": "stderr",
          "text": [
            "`stat_bin()` using `bins = 30`. Pick better value with `binwidth`.\n",
            "\n"
          ]
        },
        {
          "output_type": "stream",
          "name": "stdout",
          "text": [
            "[1] \"To confirm wih graph if Gentoo penguins are really heavier than 5000 kg on average let's assume a hypothesis that they are and calculate the null hypothesis\"\n",
            "[1] \"mean:\"\n"
          ]
        },
        {
          "output_type": "display_data",
          "data": {
            "text/plain": [
              "[1] 4947.581"
            ],
            "text/latex": "4947.58064516129",
            "text/markdown": "4947.58064516129",
            "text/html": [
              "4947.58064516129"
            ]
          },
          "metadata": {}
        },
        {
          "output_type": "stream",
          "name": "stdout",
          "text": [
            "[1] \"Variance:\"\n"
          ]
        },
        {
          "output_type": "display_data",
          "data": {
            "text/plain": [
              "[1] 301431.5"
            ],
            "text/latex": "301431.451612903",
            "text/markdown": "301431.451612903",
            "text/html": [
              "301431.451612903"
            ]
          },
          "metadata": {}
        },
        {
          "output_type": "stream",
          "name": "stdout",
          "text": [
            "[1] \"length:\"\n"
          ]
        },
        {
          "output_type": "display_data",
          "data": {
            "text/plain": [
              "[1] 31"
            ],
            "text/latex": "31",
            "text/markdown": "31",
            "text/html": [
              "31"
            ]
          },
          "metadata": {}
        },
        {
          "output_type": "stream",
          "name": "stdout",
          "text": [
            "[1] \"T value:\"\n"
          ]
        },
        {
          "output_type": "display_data",
          "data": {
            "text/plain": [
              "[1] -0.5315918"
            ],
            "text/latex": "-0.531591754380048",
            "text/markdown": "-0.531591754380048",
            "text/html": [
              "-0.531591754380048"
            ]
          },
          "metadata": {}
        },
        {
          "output_type": "stream",
          "name": "stdout",
          "text": [
            "[1] \"P value:\"\n"
          ]
        },
        {
          "output_type": "display_data",
          "data": {
            "text/plain": [
              "[1] 0.2994617"
            ],
            "text/latex": "0.299461699406988",
            "text/markdown": "0.299461699406988",
            "text/html": [
              "0.299461699406988"
            ]
          },
          "metadata": {}
        },
        {
          "output_type": "stream",
          "name": "stdout",
          "text": [
            "[1] \"As their is no evidence against our approximation, hence we can accept the hypothesis\"\n"
          ]
        },
        {
          "output_type": "display_data",
          "data": {
            "image/png": "[encoded data removed]",
            "text/plain": [
              "plot without title"
            ]
          },
          "metadata": {
            "image/png": {
              "width": 420,
              "height": 420
            }
          }
        }
      ]
    },
    {
      "cell_type": "code",
      "metadata": {
        "colab": {
          "base_uri": "https://localhost:8080/",
          "height": 471
        },
        "id": "q4ffNKp4lpUC",
        "outputId": "7b4f8aae-ef20-4c99-9125-f8692785e788"
      },
      "source": [
        "ggplot(my.penguins, aes(x=bill_length_mm , fill = species)) +     #exploratory all species plot with respect to bill length\n",
        " geom_histogram()"
      ],
      "execution_count": null,
      "outputs": [
        {
          "output_type": "stream",
          "name": "stderr",
          "text": [
            "`stat_bin()` using `bins = 30`. Pick better value with `binwidth`.\n",
            "\n"
          ]
        },
        {
          "output_type": "display_data",
          "data": {
            "image/png": "[encoded data removed]",
            "text/plain": [
              "plot without title"
            ]
          },
          "metadata": {
            "image/png": {
              "width": 420,
              "height": 420
            }
          }
        }
      ]
    },
    {
      "cell_type": "code",
      "metadata": {
        "colab": {
          "base_uri": "https://localhost:8080/",
          "height": 471
        },
        "id": "2RqTVEf8luRD",
        "outputId": "cc8f2edb-1b0d-4165-f3e0-c34084e96032"
      },
      "source": [
        "ggplot(my.penguins, aes(x=bill_depth_mm, fill = species)) +         #exploratory all species plot with respect to bill depth\n",
        " geom_histogram()"
      ],
      "execution_count": null,
      "outputs": [
        {
          "output_type": "stream",
          "name": "stderr",
          "text": [
            "`stat_bin()` using `bins = 30`. Pick better value with `binwidth`.\n",
            "\n"
          ]
        },
        {
          "output_type": "display_data",
          "data": {
            "image/png": "[encoded data removed]",
            "text/plain": [
              "plot without title"
            ]
          },
          "metadata": {
            "image/png": {
              "width": 420,
              "height": 420
            }
          }
        }
      ]
    },
    {
      "cell_type": "code",
      "metadata": {
        "colab": {
          "base_uri": "https://localhost:8080/",
          "height": 471
        },
        "id": "2NXBL4gql4jy",
        "outputId": "feaafb1d-02db-4610-b543-251ec11fadcc"
      },
      "source": [
        "ggplot(my.penguins, aes(x=flipper_length_mm, fill = species)) + #exploratory all species plot with respect to flipper length\n",
        " geom_histogram()"
      ],
      "execution_count": null,
      "outputs": [
        {
          "output_type": "stream",
          "name": "stderr",
          "text": [
            "`stat_bin()` using `bins = 30`. Pick better value with `binwidth`.\n",
            "\n"
          ]
        },
        {
          "output_type": "display_data",
          "data": {
            "image/png": "[encoded data removed]",
            "text/plain": [
              "plot without title"
            ]
          },
          "metadata": {
            "image/png": {
              "width": 420,
              "height": 420
            }
          }
        }
      ]
    },
    {
      "cell_type": "code",
      "metadata": {
        "colab": {
          "base_uri": "https://localhost:8080/",
          "height": 471
        },
        "id": "RL32OGxKmHWt",
        "outputId": "2da514b3-e0f6-4d48-8735-aeb75472d0b2"
      },
      "source": [
        "penguins_by_year= my.penguins %>%\n",
        "  group_by(species, year)%>%              #exploratory data analysis \n",
        "  summarise(body_mass_g=mean(body_mass_g))\n",
        "\n",
        "ggplot(penguins_by_year, aes(x=year, y=body_mass_g, color=species))+              #plot of body mass with respect to year\n",
        " geom_line()+\n",
        " geom_point()"
      ],
      "execution_count": null,
      "outputs": [
        {
          "output_type": "stream",
          "name": "stderr",
          "text": [
            "`summarise()` has grouped output by 'species'. You can override using the `.groups` argument.\n",
            "\n"
          ]
        },
        {
          "output_type": "display_data",
          "data": {
            "image/png": "[encoded data removed]",
            "text/plain": [
              "plot without title"
            ]
          },
          "metadata": {
            "image/png": {
              "width": 420,
              "height": 420
            }
          }
        }
      ]
    }
  ]
}